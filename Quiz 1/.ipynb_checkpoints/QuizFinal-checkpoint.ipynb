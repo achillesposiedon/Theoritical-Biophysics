{
 "cells": [
  {
   "cell_type": "code",
   "execution_count": 1,
   "metadata": {},
   "outputs": [
    {
     "name": "stdout",
     "output_type": "stream",
     "text": [
      "cuda:0\n"
     ]
    }
   ],
   "source": [
    "import pandas as pd\n",
    "import numpy as np\n",
    "\n",
    "import torch\n",
    "\n",
    "#imports necessary to define a neural network \n",
    "import torch.nn as nn\n",
    "import torch.nn.functional as F\n",
    "\n",
    "#ensure you are using GPU.\n",
    "if torch.cuda.is_available():  \n",
    "  dev = \"cuda:0\" \n",
    "else:  \n",
    "  dev = \"cpu\"  \n",
    "\n",
    "device = torch.device(dev)\n",
    "print(device)\n",
    "\n",
    "dtype = torch.cuda.FloatTensor"
   ]
  },
  {
   "cell_type": "code",
   "execution_count": 39,
   "metadata": {},
   "outputs": [],
   "source": [
    "import math\n",
    "\n",
    "def vsfunc(alpha,kappa,epsilon,delt):\n",
    "    \n",
    "    tots=math.ceil(1/delt)\n",
    "    delt=torch.tensor(delt).type(dtype)\n",
    "    vs=torch.empty(tots,2).type(dtype)\n",
    "    vsd=torch.tensor(0.00001).type(dtype)\n",
    "    sd=torch.tensor(1).type(dtype)\n",
    "    w=0\n",
    "    while w<tots:\n",
    "        vs[w,0]=sd\n",
    "        vs[w,1]=vsd\n",
    "        w = w + 1\n",
    "        \n",
    "        vsd = vsd - delt * (-1.0 + alpha * vsd / ((epsilon - vsd) * sd - kappa * vsd));\n",
    "        sd = sd - delt\n",
    "        \n",
    "        if sd <= 0:\n",
    "            sd = 0 \n",
    "            vsd = 0\n",
    "            \n",
    "        if vsd < 0:\n",
    "            vsd = 0\n",
    "        \n",
    "        if sd >= 1:\n",
    "            sd = 1\n",
    "            vsd = 0\n",
    "            \n",
    "        if vsd > 1: \n",
    "            vsd = 1\n",
    "    \n",
    "    return vs"
   ]
  },
  {
   "cell_type": "code",
   "execution_count": 40,
   "metadata": {},
   "outputs": [],
   "source": [
    "a=vsfunc(torch.tensor([0.5]).type(dtype),torch.tensor([0.6]).type(dtype),torch.tensor([0.7]).type(dtype),0.001)"
   ]
  },
  {
   "cell_type": "code",
   "execution_count": 43,
   "metadata": {},
   "outputs": [
    {
     "data": {
      "text/plain": [
       "[<matplotlib.lines.Line2D at 0x18c352d3be0>]"
      ]
     },
     "execution_count": 43,
     "metadata": {},
     "output_type": "execute_result"
    },
    {
     "data": {
      "image/png": "[encoded data removed]",
      "text/plain": [
       "<Figure size 432x288 with 1 Axes>"
      ]
     },
     "metadata": {
      "needs_background": "light"
     },
     "output_type": "display_data"
    }
   ],
   "source": [
    "import matplotlib.pyplot as plt\n",
    "\n",
    "plt.plot(a[:,0].detach().cpu().numpy())"
   ]
  },
  {
   "cell_type": "code",
   "execution_count": 44,
   "metadata": {},
   "outputs": [
    {
     "data": {
      "text/plain": [
       "[<matplotlib.lines.Line2D at 0x18c3532f280>]"
      ]
     },
     "execution_count": 44,
     "metadata": {},
     "output_type": "execute_result"
    },
    {
     "data": {
      "image/png": "[encoded data removed]",
      "text/plain": [
       "<Figure size 432x288 with 1 Axes>"
      ]
     },
     "metadata": {
      "needs_background": "light"
     },
     "output_type": "display_data"
    }
   ],
   "source": [
    "import matplotlib.pyplot as plt\n",
    "\n",
    "plt.plot(a[:,1].detach().cpu().numpy())"
   ]
  },
  {
   "cell_type": "code",
   "execution_count": 121,
   "metadata": {},
   "outputs": [
    {
     "name": "stdout",
     "output_type": "stream",
     "text": [
      "Net1(\n",
      "  (rand): Linear(in_features=30, out_features=16, bias=True)\n",
      "  (fc6): Linear(in_features=16, out_features=3, bias=True)\n",
      ")\n"
     ]
    }
   ],
   "source": [
    "class Net1(nn.Module):\n",
    "\n",
    "    def __init__(self):\n",
    "        super(Net1, self).__init__()\n",
    "        \n",
    "        # an affine operation: y = Wx + b\n",
    "        \n",
    "        self.rand=nn.Linear(30,16).cuda()\n",
    "        self.fc6 = nn.Linear(16,3).cuda()\n",
    "        \n",
    "    def forward(self, x):\n",
    "        x = self.rand(x).cuda()\n",
    "        x = F.relu(x).cuda()    \n",
    "        x = self.fc6(x).cuda()\n",
    "        \n",
    "        return x\n",
    "\n",
    "net = Net1()\n",
    "\n",
    "#use gpu for all computations in model\n",
    "net.cuda()\n",
    "print(net)"
   ]
  },
  {
   "cell_type": "code",
   "execution_count": 85,
   "metadata": {},
   "outputs": [],
   "source": [
    "import pandas as pd\n",
    "import numpy as np\n",
    "\n",
    "data=pd.read_csv('C:/Users/Ant Pc/Theoritical Biophysics/Quiz 1/ME17B037_QI.csv')\n",
    "\n",
    "def customloss(matr):\n",
    "    \n",
    "    criterion = nn.MSELoss()\n",
    "\n",
    "    d1=data.values[:,0]\n",
    "    d2=data.values[:,1]\n",
    "    \n",
    "    d1=torch.from_numpy(d1).type(dtype)\n",
    "    d2=torch.from_numpy(d2).type(dtype)\n",
    "    \n",
    "    a=vsfunc(matr[0,0],matr[0,1],matr[0,2],0.001)\n",
    "    \n",
    "    a1=a[:,0]\n",
    "    a2=a[:,1]\n",
    "    \n",
    "    e1=criterion(a1,d1).type(dtype)\n",
    "    e2=criterion(a2,d2).type(dtype)\n",
    "    \n",
    "    return (e1+e2)"
   ]
  },
  {
   "cell_type": "code",
   "execution_count": 122,
   "metadata": {},
   "outputs": [
    {
     "name": "stdout",
     "output_type": "stream",
     "text": [
      "tensor([[ 0.1208, -0.9076,  0.9718, -1.0079, -0.2626, -0.8146,  0.1648, -0.4968,\n",
      "          1.5328, -0.9653,  0.6601,  0.3094,  0.4087,  0.8985,  0.5685, -0.9674,\n",
      "         -0.6537,  0.8983, -2.1211, -1.6282, -0.3415,  1.2303,  0.6838, -1.3971,\n",
      "         -0.2631, -0.7115,  0.1173,  1.2319, -0.6569,  0.6462]],\n",
      "       device='cuda:0')\n"
     ]
    }
   ],
   "source": [
    "#random input matrix\n",
    "nsamples=1\n",
    "X=np.random.randn(nsamples,30)\n",
    "\n",
    "Xtensor=torch.from_numpy(X).type(dtype)\n",
    "print(Xtensor[:,0:30])"
   ]
  },
  {
   "cell_type": "code",
   "execution_count": 128,
   "metadata": {
    "scrolled": true
   },
   "outputs": [
    {
     "name": "stdout",
     "output_type": "stream",
     "text": [
      "tensor(7.0433e-05, device='cuda:0', grad_fn=<AddBackward0>) 0\n",
      "tensor(7.0893e-05, device='cuda:0', grad_fn=<AddBackward0>) 1\n",
      "tensor(7.1203e-05, device='cuda:0', grad_fn=<AddBackward0>) 2\n",
      "tensor(7.1445e-05, device='cuda:0', grad_fn=<AddBackward0>) 3\n",
      "tensor(7.1646e-05, device='cuda:0', grad_fn=<AddBackward0>) 4\n",
      "tensor(7.1817e-05, device='cuda:0', grad_fn=<AddBackward0>) 5\n",
      "tensor(7.1964e-05, device='cuda:0', grad_fn=<AddBackward0>) 6\n"
     ]
    },
    {
     "ename": "KeyboardInterrupt",
     "evalue": "",
     "output_type": "error",
     "traceback": [
      "\u001b[1;31m---------------------------------------------------------------------------\u001b[0m",
      "\u001b[1;31mKeyboardInterrupt\u001b[0m                         Traceback (most recent call last)",
      "\u001b[1;32m<ipython-input-128-91a298791caa>\u001b[0m in \u001b[0;36m<module>\u001b[1;34m\u001b[0m\n\u001b[0;32m     23\u001b[0m \u001b[1;33m\u001b[0m\u001b[0m\n\u001b[0;32m     24\u001b[0m         \u001b[1;31m#backprop loss i.e. find dloss/dparam for each parameter and store.\u001b[0m\u001b[1;33m\u001b[0m\u001b[1;33m\u001b[0m\u001b[1;33m\u001b[0m\u001b[0m\n\u001b[1;32m---> 25\u001b[1;33m         \u001b[0mloss\u001b[0m\u001b[1;33m.\u001b[0m\u001b[0mbackward\u001b[0m\u001b[1;33m(\u001b[0m\u001b[0mretain_graph\u001b[0m\u001b[1;33m=\u001b[0m\u001b[1;32mTrue\u001b[0m\u001b[1;33m)\u001b[0m\u001b[1;33m\u001b[0m\u001b[1;33m\u001b[0m\u001b[0m\n\u001b[0m\u001b[0;32m     26\u001b[0m \u001b[1;33m\u001b[0m\u001b[0m\n\u001b[0;32m     27\u001b[0m         \u001b[1;31m#clip gradients\u001b[0m\u001b[1;33m\u001b[0m\u001b[1;33m\u001b[0m\u001b[1;33m\u001b[0m\u001b[0m\n",
      "\u001b[1;32mC:\\ProgramData\\Anaconda3\\lib\\site-packages\\torch\\tensor.py\u001b[0m in \u001b[0;36mbackward\u001b[1;34m(self, gradient, retain_graph, create_graph)\u001b[0m\n\u001b[0;32m    183\u001b[0m                 \u001b[0mproducts\u001b[0m\u001b[1;33m.\u001b[0m \u001b[0mDefaults\u001b[0m \u001b[0mto\u001b[0m\u001b[0;31m \u001b[0m\u001b[0;31m`\u001b[0m\u001b[0;31m`\u001b[0m\u001b[1;32mFalse\u001b[0m\u001b[0;31m`\u001b[0m\u001b[0;31m`\u001b[0m\u001b[1;33m.\u001b[0m\u001b[1;33m\u001b[0m\u001b[1;33m\u001b[0m\u001b[0m\n\u001b[0;32m    184\u001b[0m         \"\"\"\n\u001b[1;32m--> 185\u001b[1;33m         \u001b[0mtorch\u001b[0m\u001b[1;33m.\u001b[0m\u001b[0mautograd\u001b[0m\u001b[1;33m.\u001b[0m\u001b[0mbackward\u001b[0m\u001b[1;33m(\u001b[0m\u001b[0mself\u001b[0m\u001b[1;33m,\u001b[0m \u001b[0mgradient\u001b[0m\u001b[1;33m,\u001b[0m \u001b[0mretain_graph\u001b[0m\u001b[1;33m,\u001b[0m \u001b[0mcreate_graph\u001b[0m\u001b[1;33m)\u001b[0m\u001b[1;33m\u001b[0m\u001b[1;33m\u001b[0m\u001b[0m\n\u001b[0m\u001b[0;32m    186\u001b[0m \u001b[1;33m\u001b[0m\u001b[0m\n\u001b[0;32m    187\u001b[0m     \u001b[1;32mdef\u001b[0m \u001b[0mregister_hook\u001b[0m\u001b[1;33m(\u001b[0m\u001b[0mself\u001b[0m\u001b[1;33m,\u001b[0m \u001b[0mhook\u001b[0m\u001b[1;33m)\u001b[0m\u001b[1;33m:\u001b[0m\u001b[1;33m\u001b[0m\u001b[1;33m\u001b[0m\u001b[0m\n",
      "\u001b[1;32mC:\\ProgramData\\Anaconda3\\lib\\site-packages\\torch\\autograd\\__init__.py\u001b[0m in \u001b[0;36mbackward\u001b[1;34m(tensors, grad_tensors, retain_graph, create_graph, grad_variables)\u001b[0m\n\u001b[0;32m    123\u001b[0m         \u001b[0mretain_graph\u001b[0m \u001b[1;33m=\u001b[0m \u001b[0mcreate_graph\u001b[0m\u001b[1;33m\u001b[0m\u001b[1;33m\u001b[0m\u001b[0m\n\u001b[0;32m    124\u001b[0m \u001b[1;33m\u001b[0m\u001b[0m\n\u001b[1;32m--> 125\u001b[1;33m     Variable._execution_engine.run_backward(\n\u001b[0m\u001b[0;32m    126\u001b[0m         \u001b[0mtensors\u001b[0m\u001b[1;33m,\u001b[0m \u001b[0mgrad_tensors\u001b[0m\u001b[1;33m,\u001b[0m \u001b[0mretain_graph\u001b[0m\u001b[1;33m,\u001b[0m \u001b[0mcreate_graph\u001b[0m\u001b[1;33m,\u001b[0m\u001b[1;33m\u001b[0m\u001b[1;33m\u001b[0m\u001b[0m\n\u001b[0;32m    127\u001b[0m         allow_unreachable=True)  # allow_unreachable flag\n",
      "\u001b[1;31mKeyboardInterrupt\u001b[0m: "
     ]
    }
   ],
   "source": [
    "#trainingloop\n",
    "import torch.optim as optim\n",
    "\n",
    "lr = 0.0001\n",
    "batchsize=1\n",
    "\n",
    "batches=nsamples/batchsize\n",
    "\n",
    "epochs=20000\n",
    "\n",
    "# create your optimizer\n",
    "optimizer = optim.Adagrad(net.parameters(), lr)\n",
    "\n",
    "for i in range(epochs):\n",
    "    \n",
    "    for j in range(int(batches)):\n",
    "        \n",
    "        #forward pass\n",
    "        out=net(Xtensor[j:j+batchsize,:]).type(dtype)\n",
    "    \n",
    "        #compute loss\n",
    "        loss = customloss(out).type(dtype)\n",
    "\n",
    "        #backprop loss i.e. find dloss/dparam for each parameter and store.\n",
    "        loss.backward(retain_graph=True)\n",
    "        \n",
    "        #clip gradients\n",
    "        torch.nn.utils.clip_grad_norm_(net.parameters(), 1.0)\n",
    "        optimizer.step()\n",
    "    print(loss,i)"
   ]
  },
  {
   "cell_type": "code",
   "execution_count": 96,
   "metadata": {},
   "outputs": [
    {
     "name": "stdout",
     "output_type": "stream",
     "text": [
      "[[0.71792775 0.782643   0.91273224]]\n"
     ]
    }
   ],
   "source": [
    "a=net(Xtensor).detach().cpu().numpy()\n",
    "print(a)"
   ]
  },
  {
   "cell_type": "code",
   "execution_count": 129,
   "metadata": {},
   "outputs": [
    {
     "name": "stdout",
     "output_type": "stream",
     "text": [
      "[[-90.50047  -85.01975  -83.762764]]\n"
     ]
    }
   ],
   "source": [
    "a=net(Xtensor).detach().cpu().numpy()\n",
    "print(a)"
   ]
  },
  {
   "cell_type": "code",
   "execution_count": 103,
   "metadata": {
    "scrolled": true
   },
   "outputs": [
    {
     "name": "stdout",
     "output_type": "stream",
     "text": [
      "tensor(5.5421e-05, device='cuda:0', grad_fn=<AddBackward0>) 0\n",
      "tensor(5.5887e-05, device='cuda:0', grad_fn=<AddBackward0>) 1\n",
      "tensor(5.6257e-05, device='cuda:0', grad_fn=<AddBackward0>) 2\n",
      "tensor(5.6580e-05, device='cuda:0', grad_fn=<AddBackward0>) 3\n",
      "tensor(5.6870e-05, device='cuda:0', grad_fn=<AddBackward0>) 4\n",
      "tensor(5.7137e-05, device='cuda:0', grad_fn=<AddBackward0>) 5\n",
      "tensor(5.7383e-05, device='cuda:0', grad_fn=<AddBackward0>) 6\n",
      "tensor(5.7613e-05, device='cuda:0', grad_fn=<AddBackward0>) 7\n",
      "tensor(5.7830e-05, device='cuda:0', grad_fn=<AddBackward0>) 8\n",
      "tensor(5.8032e-05, device='cuda:0', grad_fn=<AddBackward0>) 9\n",
      "tensor(5.8223e-05, device='cuda:0', grad_fn=<AddBackward0>) 10\n",
      "tensor(5.8404e-05, device='cuda:0', grad_fn=<AddBackward0>) 11\n",
      "tensor(5.8575e-05, device='cuda:0', grad_fn=<AddBackward0>) 12\n",
      "tensor(5.8737e-05, device='cuda:0', grad_fn=<AddBackward0>) 13\n",
      "tensor(5.8890e-05, device='cuda:0', grad_fn=<AddBackward0>) 14\n",
      "tensor(5.9036e-05, device='cuda:0', grad_fn=<AddBackward0>) 15\n",
      "tensor(5.9174e-05, device='cuda:0', grad_fn=<AddBackward0>) 16\n",
      "tensor(5.9305e-05, device='cuda:0', grad_fn=<AddBackward0>) 17\n",
      "tensor(5.9428e-05, device='cuda:0', grad_fn=<AddBackward0>) 18\n",
      "tensor(5.9546e-05, device='cuda:0', grad_fn=<AddBackward0>) 19\n",
      "tensor(5.9657e-05, device='cuda:0', grad_fn=<AddBackward0>) 20\n",
      "tensor(5.9762e-05, device='cuda:0', grad_fn=<AddBackward0>) 21\n",
      "tensor(5.9862e-05, device='cuda:0', grad_fn=<AddBackward0>) 22\n",
      "tensor(5.9957e-05, device='cuda:0', grad_fn=<AddBackward0>) 23\n",
      "tensor(6.0047e-05, device='cuda:0', grad_fn=<AddBackward0>) 24\n",
      "tensor(6.0131e-05, device='cuda:0', grad_fn=<AddBackward0>) 25\n",
      "tensor(6.0210e-05, device='cuda:0', grad_fn=<AddBackward0>) 26\n",
      "tensor(6.0285e-05, device='cuda:0', grad_fn=<AddBackward0>) 27\n",
      "tensor(6.0356e-05, device='cuda:0', grad_fn=<AddBackward0>) 28\n",
      "tensor(6.0423e-05, device='cuda:0', grad_fn=<AddBackward0>) 29\n",
      "tensor(6.0485e-05, device='cuda:0', grad_fn=<AddBackward0>) 30\n",
      "tensor(6.0543e-05, device='cuda:0', grad_fn=<AddBackward0>) 31\n",
      "tensor(6.0598e-05, device='cuda:0', grad_fn=<AddBackward0>) 32\n",
      "tensor(6.0648e-05, device='cuda:0', grad_fn=<AddBackward0>) 33\n",
      "tensor(6.0696e-05, device='cuda:0', grad_fn=<AddBackward0>) 34\n",
      "tensor(6.0739e-05, device='cuda:0', grad_fn=<AddBackward0>) 35\n"
     ]
    },
    {
     "ename": "KeyboardInterrupt",
     "evalue": "",
     "output_type": "error",
     "traceback": [
      "\u001b[1;31m---------------------------------------------------------------------------\u001b[0m",
      "\u001b[1;31mKeyboardInterrupt\u001b[0m                         Traceback (most recent call last)",
      "\u001b[1;32m<ipython-input-103-df69618751ec>\u001b[0m in \u001b[0;36m<module>\u001b[1;34m\u001b[0m\n\u001b[0;32m     23\u001b[0m \u001b[1;33m\u001b[0m\u001b[0m\n\u001b[0;32m     24\u001b[0m         \u001b[1;31m#backprop loss i.e. find dloss/dparam for each parameter and store.\u001b[0m\u001b[1;33m\u001b[0m\u001b[1;33m\u001b[0m\u001b[1;33m\u001b[0m\u001b[0m\n\u001b[1;32m---> 25\u001b[1;33m         \u001b[0mloss\u001b[0m\u001b[1;33m.\u001b[0m\u001b[0mbackward\u001b[0m\u001b[1;33m(\u001b[0m\u001b[0mretain_graph\u001b[0m\u001b[1;33m=\u001b[0m\u001b[1;32mTrue\u001b[0m\u001b[1;33m)\u001b[0m\u001b[1;33m\u001b[0m\u001b[1;33m\u001b[0m\u001b[0m\n\u001b[0m\u001b[0;32m     26\u001b[0m \u001b[1;33m\u001b[0m\u001b[0m\n\u001b[0;32m     27\u001b[0m         \u001b[1;31m#clip gradients\u001b[0m\u001b[1;33m\u001b[0m\u001b[1;33m\u001b[0m\u001b[1;33m\u001b[0m\u001b[0m\n",
      "\u001b[1;32mC:\\ProgramData\\Anaconda3\\lib\\site-packages\\torch\\tensor.py\u001b[0m in \u001b[0;36mbackward\u001b[1;34m(self, gradient, retain_graph, create_graph)\u001b[0m\n\u001b[0;32m    183\u001b[0m                 \u001b[0mproducts\u001b[0m\u001b[1;33m.\u001b[0m \u001b[0mDefaults\u001b[0m \u001b[0mto\u001b[0m\u001b[0;31m \u001b[0m\u001b[0;31m`\u001b[0m\u001b[0;31m`\u001b[0m\u001b[1;32mFalse\u001b[0m\u001b[0;31m`\u001b[0m\u001b[0;31m`\u001b[0m\u001b[1;33m.\u001b[0m\u001b[1;33m\u001b[0m\u001b[1;33m\u001b[0m\u001b[0m\n\u001b[0;32m    184\u001b[0m         \"\"\"\n\u001b[1;32m--> 185\u001b[1;33m         \u001b[0mtorch\u001b[0m\u001b[1;33m.\u001b[0m\u001b[0mautograd\u001b[0m\u001b[1;33m.\u001b[0m\u001b[0mbackward\u001b[0m\u001b[1;33m(\u001b[0m\u001b[0mself\u001b[0m\u001b[1;33m,\u001b[0m \u001b[0mgradient\u001b[0m\u001b[1;33m,\u001b[0m \u001b[0mretain_graph\u001b[0m\u001b[1;33m,\u001b[0m \u001b[0mcreate_graph\u001b[0m\u001b[1;33m)\u001b[0m\u001b[1;33m\u001b[0m\u001b[1;33m\u001b[0m\u001b[0m\n\u001b[0m\u001b[0;32m    186\u001b[0m \u001b[1;33m\u001b[0m\u001b[0m\n\u001b[0;32m    187\u001b[0m     \u001b[1;32mdef\u001b[0m \u001b[0mregister_hook\u001b[0m\u001b[1;33m(\u001b[0m\u001b[0mself\u001b[0m\u001b[1;33m,\u001b[0m \u001b[0mhook\u001b[0m\u001b[1;33m)\u001b[0m\u001b[1;33m:\u001b[0m\u001b[1;33m\u001b[0m\u001b[1;33m\u001b[0m\u001b[0m\n",
      "\u001b[1;32mC:\\ProgramData\\Anaconda3\\lib\\site-packages\\torch\\autograd\\__init__.py\u001b[0m in \u001b[0;36mbackward\u001b[1;34m(tensors, grad_tensors, retain_graph, create_graph, grad_variables)\u001b[0m\n\u001b[0;32m    123\u001b[0m         \u001b[0mretain_graph\u001b[0m \u001b[1;33m=\u001b[0m \u001b[0mcreate_graph\u001b[0m\u001b[1;33m\u001b[0m\u001b[1;33m\u001b[0m\u001b[0m\n\u001b[0;32m    124\u001b[0m \u001b[1;33m\u001b[0m\u001b[0m\n\u001b[1;32m--> 125\u001b[1;33m     Variable._execution_engine.run_backward(\n\u001b[0m\u001b[0;32m    126\u001b[0m         \u001b[0mtensors\u001b[0m\u001b[1;33m,\u001b[0m \u001b[0mgrad_tensors\u001b[0m\u001b[1;33m,\u001b[0m \u001b[0mretain_graph\u001b[0m\u001b[1;33m,\u001b[0m \u001b[0mcreate_graph\u001b[0m\u001b[1;33m,\u001b[0m\u001b[1;33m\u001b[0m\u001b[1;33m\u001b[0m\u001b[0m\n\u001b[0;32m    127\u001b[0m         allow_unreachable=True)  # allow_unreachable flag\n",
      "\u001b[1;31mKeyboardInterrupt\u001b[0m: "
     ]
    }
   ],
   "source": [
    "#trainingloop\n",
    "import torch.optim as optim\n",
    "#30,64\n",
    "lr = 0.01\n",
    "batchsize=1\n",
    "\n",
    "batches=nsamples/batchsize\n",
    "\n",
    "epochs=20000\n",
    "\n",
    "# create your optimizer\n",
    "optimizer = optim.Adagrad(net.parameters(), lr)\n",
    "\n",
    "for i in range(epochs):\n",
    "    \n",
    "    for j in range(int(batches)):\n",
    "        \n",
    "        #forward pass\n",
    "        out=net(Xtensor[j:j+batchsize,:]).type(dtype)\n",
    "    \n",
    "        #compute loss\n",
    "        loss = customloss(out).type(dtype)\n",
    "\n",
    "        #backprop loss i.e. find dloss/dparam for each parameter and store.\n",
    "        loss.backward(retain_graph=True)\n",
    "        \n",
    "        #clip gradients\n",
    "        torch.nn.utils.clip_grad_norm_(net.parameters(), 1.0)\n",
    "        optimizer.step()\n",
    "    print(loss,i)"
   ]
  },
  {
   "cell_type": "code",
   "execution_count": null,
   "metadata": {},
   "outputs": [],
   "source": []
  }
 ],
 "metadata": {
  "kernelspec": {
   "display_name": "Python 3",
   "language": "python",
   "name": "python3"
  },
  "language_info": {
   "codemirror_mode": {
    "name": "ipython",
    "version": 3
   },
   "file_extension": ".py",
   "mimetype": "text/x-python",
   "name": "python",
   "nbconvert_exporter": "python",
   "pygments_lexer": "ipython3",
   "version": "3.8.3"
  }
 },
 "nbformat": 4,
 "nbformat_minor": 4
}
