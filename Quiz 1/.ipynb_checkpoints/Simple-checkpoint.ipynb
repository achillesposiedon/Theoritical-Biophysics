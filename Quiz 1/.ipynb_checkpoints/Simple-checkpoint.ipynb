{
 "cells": [
  {
   "cell_type": "code",
   "execution_count": 134,
   "metadata": {},
   "outputs": [],
   "source": [
    "import pandas as pd\n",
    "import numpy as np\n",
    "\n",
    "data=pd.read_csv('C:/Users/Ant Pc/Theoritical Biophysics/Quiz 1/ME17B037_QI.csv')\n",
    "data.head()\n",
    "\n",
    "import math\n",
    "def vsfunc(alpha,kappa,epsilon,delt):\n",
    "    \n",
    "    tots=math.ceil(1/delt)\n",
    "    vs=[]\n",
    "    vs1=[]\n",
    "    vsd=0.00001\n",
    "    sd=w=1\n",
    "    \n",
    "    while w<=tots:\n",
    "        vs.append(sd)\n",
    "        vs1.append(vsd)\n",
    "        w = w + 1\n",
    "        vsd = vsd - delt * (-1.0 + alpha * vsd / ((epsilon - vsd) * sd - kappa * vsd))\n",
    "        sd = sd - delt\n",
    "        \n",
    "        if sd <= 0:\n",
    "            sd = 0 \n",
    "            vsd = 0\n",
    "            \n",
    "        if vsd < 0:\n",
    "            vsd = 0\n",
    "        \n",
    "        if sd >= 1:\n",
    "            sd = 1\n",
    "            vsd = 0\n",
    "            \n",
    "        if vsd > 1: \n",
    "            vsd = 1\n",
    "    \n",
    "    r=np.array(vs)\n",
    "    j=np.array(vs1)\n",
    "    a=np.zeros([tots,2])\n",
    "    a[:,0]=r\n",
    "    a[:,1]=j\n",
    "    return a"
   ]
  },
  {
   "cell_type": "code",
   "execution_count": 107,
   "metadata": {},
   "outputs": [
    {
     "data": {
      "text/plain": [
       "[<matplotlib.lines.Line2D at 0x20824124dc0>]"
      ]
     },
     "execution_count": 107,
     "metadata": {},
     "output_type": "execute_result"
    },
    {
     "data": {
      "image/png": "[encoded data removed]",
      "text/plain": [
       "<Figure size 432x288 with 1 Axes>"
      ]
     },
     "metadata": {
      "needs_background": "light"
     },
     "output_type": "display_data"
    }
   ],
   "source": [
    "import matplotlib.pyplot as plt\n",
    "plt.plot(data.iloc[:,0])"
   ]
  },
  {
   "cell_type": "code",
   "execution_count": 108,
   "metadata": {},
   "outputs": [
    {
     "data": {
      "text/plain": [
       "[<matplotlib.lines.Line2D at 0x208241bcd60>]"
      ]
     },
     "execution_count": 108,
     "metadata": {},
     "output_type": "execute_result"
    },
    {
     "data": {
      "image/png": "[encoded data removed]",
      "text/plain": [
       "<Figure size 432x288 with 1 Axes>"
      ]
     },
     "metadata": {
      "needs_background": "light"
     },
     "output_type": "display_data"
    }
   ],
   "source": [
    "plt.plot(data.iloc[:,1])"
   ]
  },
  {
   "cell_type": "code",
   "execution_count": 103,
   "metadata": {},
   "outputs": [
    {
     "data": {
      "text/html": [
       "<div>\n",
       "<style scoped>\n",
       "    .dataframe tbody tr th:only-of-type {\n",
       "        vertical-align: middle;\n",
       "    }\n",
       "\n",
       "    .dataframe tbody tr th {\n",
       "        vertical-align: top;\n",
       "    }\n",
       "\n",
       "    .dataframe thead th {\n",
       "        text-align: right;\n",
       "    }\n",
       "</style>\n",
       "<table border=\"1\" class=\"dataframe\">\n",
       "  <thead>\n",
       "    <tr style=\"text-align: right;\">\n",
       "      <th></th>\n",
       "      <th>S</th>\n",
       "      <th>V</th>\n",
       "    </tr>\n",
       "  </thead>\n",
       "  <tbody>\n",
       "    <tr>\n",
       "      <th>count</th>\n",
       "      <td>1000.000000</td>\n",
       "      <td>1.000000e+03</td>\n",
       "    </tr>\n",
       "    <tr>\n",
       "      <th>mean</th>\n",
       "      <td>0.500500</td>\n",
       "      <td>1.610137e-01</td>\n",
       "    </tr>\n",
       "    <tr>\n",
       "      <th>std</th>\n",
       "      <td>0.288819</td>\n",
       "      <td>7.742804e-02</td>\n",
       "    </tr>\n",
       "    <tr>\n",
       "      <th>min</th>\n",
       "      <td>0.001000</td>\n",
       "      <td>1.000000e-15</td>\n",
       "    </tr>\n",
       "    <tr>\n",
       "      <th>25%</th>\n",
       "      <td>0.250750</td>\n",
       "      <td>9.821550e-02</td>\n",
       "    </tr>\n",
       "    <tr>\n",
       "      <th>50%</th>\n",
       "      <td>0.500500</td>\n",
       "      <td>1.753350e-01</td>\n",
       "    </tr>\n",
       "    <tr>\n",
       "      <th>75%</th>\n",
       "      <td>0.750250</td>\n",
       "      <td>2.326625e-01</td>\n",
       "    </tr>\n",
       "    <tr>\n",
       "      <th>max</th>\n",
       "      <td>1.000000</td>\n",
       "      <td>2.573900e-01</td>\n",
       "    </tr>\n",
       "  </tbody>\n",
       "</table>\n",
       "</div>"
      ],
      "text/plain": [
       "                 S             V\n",
       "count  1000.000000  1.000000e+03\n",
       "mean      0.500500  1.610137e-01\n",
       "std       0.288819  7.742804e-02\n",
       "min       0.001000  1.000000e-15\n",
       "25%       0.250750  9.821550e-02\n",
       "50%       0.500500  1.753350e-01\n",
       "75%       0.750250  2.326625e-01\n",
       "max       1.000000  2.573900e-01"
      ]
     },
     "execution_count": 103,
     "metadata": {},
     "output_type": "execute_result"
    }
   ],
   "source": [
    "data.describe()"
   ]
  },
  {
   "cell_type": "code",
   "execution_count": 135,
   "metadata": {},
   "outputs": [],
   "source": [
    "a=vsfunc(0.5,0.6,0.7,0.0001)"
   ]
  },
  {
   "cell_type": "code",
   "execution_count": 136,
   "metadata": {},
   "outputs": [
    {
     "data": {
      "text/plain": [
       "(10000, 2)"
      ]
     },
     "execution_count": 136,
     "metadata": {},
     "output_type": "execute_result"
    }
   ],
   "source": [
    "a.shape"
   ]
  },
  {
   "cell_type": "code",
   "execution_count": 139,
   "metadata": {},
   "outputs": [
    {
     "data": {
      "text/plain": [
       "[<matplotlib.lines.Line2D at 0x20823e97040>]"
      ]
     },
     "execution_count": 139,
     "metadata": {},
     "output_type": "execute_result"
    },
    {
     "data": {
      "image/png": "[encoded data removed]",
      "text/plain": [
       "<Figure size 432x288 with 1 Axes>"
      ]
     },
     "metadata": {
      "needs_background": "light"
     },
     "output_type": "display_data"
    }
   ],
   "source": [
    "plt.plot(a[:,0])"
   ]
  },
  {
   "cell_type": "code",
   "execution_count": 140,
   "metadata": {},
   "outputs": [
    {
     "data": {
      "text/plain": [
       "[<matplotlib.lines.Line2D at 0x20824407d60>]"
      ]
     },
     "execution_count": 140,
     "metadata": {},
     "output_type": "execute_result"
    },
    {
     "data": {
      "image/png": "[encoded data removed]",
      "text/plain": [
       "<Figure size 432x288 with 1 Axes>"
      ]
     },
     "metadata": {
      "needs_background": "light"
     },
     "output_type": "display_data"
    }
   ],
   "source": [
    "plt.plot(a[:,1])"
   ]
  },
  {
   "cell_type": "code",
   "execution_count": 149,
   "metadata": {},
   "outputs": [],
   "source": [
    "def loss(a):\n",
    "    \n",
    "    a1=a[:,0]\n",
    "    a2=a[:,1]\n",
    "\n",
    "    i1=data.values[:,0]\n",
    "    i2=data.values[:,1]\n",
    "\n",
    "    from sklearn.metrics import mean_squared_error\n",
    "    \n",
    "    e1=mean_squared_error(a1,i1)\n",
    "    e2=mean_squared_error(a2,i2)\n",
    "    \n",
    "    return e1+e2"
   ]
  },
  {
   "cell_type": "code",
   "execution_count": 150,
   "metadata": {},
   "outputs": [
    {
     "data": {
      "text/plain": [
       "0.004926732102077356"
      ]
     },
     "execution_count": 150,
     "metadata": {},
     "output_type": "execute_result"
    }
   ],
   "source": [
    "loss(vsfunc(0.97,0.5,0.5,0.001))"
   ]
  },
  {
   "cell_type": "code",
   "execution_count": 161,
   "metadata": {},
   "outputs": [
    {
     "name": "stdout",
     "output_type": "stream",
     "text": [
      "0\n",
      "1\n",
      "2\n",
      "3\n",
      "4\n",
      "5\n",
      "6\n",
      "7\n",
      "8\n",
      "9\n",
      "10\n",
      "11\n",
      "12\n",
      "13\n",
      "14\n",
      "15\n",
      "16\n",
      "17\n",
      "18\n",
      "19\n",
      "20\n",
      "21\n",
      "22\n",
      "23\n",
      "24\n",
      "25\n",
      "26\n",
      "27\n",
      "28\n",
      "29\n",
      "30\n",
      "31\n",
      "32\n",
      "33\n",
      "6.728692360072214e-08 0.6400000000000001 0.6800000000000002 0.8300000000000003\n",
      "8.92802538002454e-08 0.6300000000000001 0.6900000000000002 0.8300000000000003\n",
      "34\n",
      "5.0858982726717337e-08 0.6500000000000001 0.6900000000000002 0.8400000000000003\n",
      "7.242842336571171e-08 0.6400000000000001 0.7000000000000002 0.8400000000000003\n",
      "35\n",
      "8.345398772681134e-08 0.6600000000000001 0.7000000000000002 0.8500000000000003\n",
      "36\n",
      "37\n",
      "9.208401002093694e-08 0.6900000000000002 0.7200000000000002 0.8700000000000003\n",
      "38\n",
      "8.650370495172731e-08 0.7000000000000002 0.7300000000000002 0.8800000000000003\n",
      "39\n",
      "40\n",
      "41\n",
      "42\n",
      "43\n",
      "44\n",
      "45\n",
      "46\n",
      "47\n",
      "48\n",
      "49\n"
     ]
    }
   ],
   "source": [
    "import math\n",
    "\n",
    "delt=0.01\n",
    "alpha=0.5\n",
    "kappa=0.5\n",
    "epsilon=0.5\n",
    "\n",
    "a=[]\n",
    "b=[]\n",
    "c=[]\n",
    "lo=[]\n",
    "\n",
    "for i in range(math.ceil(0.5/delt)):\n",
    "    print(i)\n",
    "    kappa=0.5\n",
    "    for j in range(math.ceil(0.5/delt)):\n",
    "        alpha=0.5\n",
    "        for k in range(math.ceil(0.5/delt)):\n",
    "    \n",
    "            a1=vsfunc(alpha,kappa,epsilon,0.001)\n",
    "            l=loss(a1)\n",
    "            if l<0.0000001:\n",
    "                print(l,alpha,kappa,epsilon)\n",
    "                a.append(alpha)\n",
    "                b.append(kappa)\n",
    "                c.append(epsilon)\n",
    "                lo.append(l)\n",
    "                \n",
    "            alpha=alpha+delt  \n",
    "        kappa=kappa+delt          \n",
    "    epsilon=epsilon+delt"
   ]
  },
  {
   "cell_type": "code",
   "execution_count": 162,
   "metadata": {},
   "outputs": [
    {
     "name": "stdout",
     "output_type": "stream",
     "text": [
      "0\n",
      "1\n",
      "2\n",
      "3\n",
      "4\n",
      "5\n",
      "6\n",
      "7\n",
      "8\n",
      "9\n",
      "10\n",
      "11\n",
      "12\n",
      "13\n",
      "14\n",
      "15\n",
      "16\n",
      "17\n",
      "18\n",
      "19\n",
      "20\n",
      "21\n",
      "22\n",
      "23\n",
      "24\n",
      "25\n",
      "26\n",
      "27\n",
      "28\n",
      "29\n",
      "30\n",
      "31\n",
      "32\n",
      "33\n",
      "34\n",
      "35\n",
      "36\n",
      "37\n",
      "38\n",
      "39\n",
      "40\n",
      "41\n",
      "42\n",
      "43\n",
      "44\n",
      "45\n",
      "46\n",
      "47\n",
      "48\n",
      "49\n",
      "50\n",
      "51\n",
      "52\n",
      "53\n",
      "54\n",
      "55\n",
      "56\n",
      "57\n",
      "58\n",
      "59\n",
      "60\n",
      "61\n",
      "62\n",
      "63\n",
      "64\n",
      "65\n",
      "9.505936155529866e-08 0.6350000000000001 0.6750000000000002 0.8250000000000003\n",
      "8.461486861184625e-08 0.6300000000000001 0.6800000000000002 0.8250000000000003\n",
      "66\n",
      "6.728692360072214e-08 0.6400000000000001 0.6800000000000002 0.8300000000000003\n",
      "5.698346834164963e-08 0.6350000000000001 0.6850000000000002 0.8300000000000003\n",
      "8.92802538002454e-08 0.6300000000000001 0.6900000000000002 0.8300000000000003\n",
      "67\n",
      "5.2714471716280315e-08 0.6450000000000001 0.6850000000000002 0.8350000000000003\n",
      "4.257289768984079e-08 0.6400000000000001 0.6900000000000002 0.8350000000000003\n",
      "7.447062200327322e-08 0.6350000000000001 0.6950000000000002 0.8350000000000003\n",
      "68\n",
      "5.0858982726717337e-08 0.6500000000000001 0.6900000000000002 0.8400000000000003\n",
      "7.664498727945915e-08 0.6550000000000001 0.6900000000000002 0.8400000000000003\n",
      "4.089906176679277e-08 0.6450000000000001 0.6950000000000002 0.8400000000000003\n",
      "7.789212687525205e-08 0.6500000000000001 0.6950000000000002 0.8400000000000003\n",
      "7.242842336571171e-08 0.6400000000000001 0.7000000000000002 0.8400000000000003\n",
      "69\n",
      "8.011190847532867e-08 0.6650000000000001 0.6900000000000002 0.8450000000000003\n",
      "6.125501127831598e-08 0.6550000000000001 0.6950000000000002 0.8450000000000003\n",
      "4.102474709556999e-08 0.6600000000000001 0.6950000000000002 0.8450000000000003\n",
      "5.149548793834974e-08 0.6500000000000001 0.7000000000000002 0.8450000000000003\n",
      "4.228091423848557e-08 0.6550000000000001 0.7000000000000002 0.8450000000000003\n",
      "8.26858796676815e-08 0.6450000000000001 0.7050000000000002 0.8450000000000003\n",
      "8.409006081262906e-08 0.6500000000000001 0.7050000000000002 0.8450000000000003\n",
      "70\n",
      "5.675990440112838e-08 0.6700000000000002 0.6950000000000002 0.8500000000000003\n",
      "8.345398772681134e-08 0.6600000000000001 0.7000000000000002 0.8500000000000003\n",
      "1.822097931359124e-08 0.6650000000000001 0.7000000000000002 0.8500000000000003\n",
      "7.391262195537973e-08 0.6550000000000001 0.7050000000000002 0.8500000000000003\n",
      "1.9507972388423345e-08 0.6600000000000001 0.7050000000000002 0.8500000000000003\n",
      "6.082682367854353e-08 0.6550000000000001 0.7100000000000002 0.8500000000000003\n",
      "71\n",
      "4.5756649484734934e-08 0.6750000000000002 0.7000000000000002 0.8550000000000003\n",
      "7.776886302167444e-09 0.6700000000000002 0.7050000000000002 0.8550000000000003\n",
      "9.115458384897419e-09 0.6650000000000001 0.7100000000000002 0.8550000000000003\n",
      "4.997467902339544e-08 0.6600000000000001 0.7150000000000002 0.8550000000000003\n",
      "72\n",
      "4.666234332906453e-08 0.6800000000000002 0.7050000000000002 0.8600000000000003\n",
      "9.251909102051677e-09 0.6750000000000002 0.7100000000000002 0.8600000000000003\n",
      "1.0661810284592188e-08 0.6700000000000002 0.7150000000000002 0.8600000000000003\n",
      "5.1090815242856106e-08 0.6650000000000001 0.7200000000000002 0.8600000000000003\n",
      "73\n",
      "5.9052756735381783e-08 0.6850000000000002 0.7100000000000002 0.8650000000000003\n",
      "2.222109318410581e-08 0.6800000000000002 0.7150000000000002 0.8650000000000003\n",
      "2.3721111231763335e-08 0.6750000000000002 0.7200000000000002 0.8650000000000003\n",
      "6.374811397052028e-08 0.6700000000000002 0.7250000000000002 0.8650000000000003\n",
      "74\n",
      "8.251862630676788e-08 0.6900000000000002 0.7150000000000002 0.8700000000000003\n",
      "4.627448171213646e-08 0.6850000000000002 0.7200000000000002 0.8700000000000003\n",
      "9.208401002093694e-08 0.6900000000000002 0.7200000000000002 0.8700000000000003\n",
      "4.7882481117504125e-08 0.6800000000000002 0.7250000000000002 0.8700000000000003\n",
      "8.753453986836136e-08 0.6750000000000002 0.7300000000000002 0.8700000000000003\n",
      "75\n",
      "8.101653499334256e-08 0.6900000000000002 0.7250000000000002 0.8750000000000003\n",
      "8.368069779871544e-08 0.6950000000000002 0.7250000000000002 0.8750000000000003\n",
      "8.274949448821916e-08 0.6850000000000002 0.7300000000000002 0.8750000000000003\n",
      "9.527628305400421e-08 0.6900000000000002 0.7300000000000002 0.8750000000000003\n",
      "76\n",
      "8.650370495172731e-08 0.7000000000000002 0.7300000000000002 0.8800000000000003\n",
      "9.807774652803546e-08 0.6950000000000002 0.7350000000000002 0.8800000000000003\n",
      "77\n",
      "78\n",
      "79\n",
      "80\n",
      "81\n",
      "82\n",
      "83\n",
      "84\n",
      "85\n",
      "86\n",
      "87\n",
      "88\n",
      "89\n",
      "90\n",
      "91\n",
      "92\n",
      "93\n",
      "94\n",
      "95\n",
      "96\n",
      "97\n",
      "98\n",
      "99\n"
     ]
    }
   ],
   "source": [
    "import math\n",
    "\n",
    "delt=0.005\n",
    "alpha=0.5\n",
    "kappa=0.5\n",
    "epsilon=0.5\n",
    "\n",
    "a=[]\n",
    "b=[]\n",
    "c=[]\n",
    "lo=[]\n",
    "\n",
    "for i in range(math.ceil(0.5/delt)):\n",
    "    print(i)\n",
    "    kappa=0.5\n",
    "    for j in range(math.ceil(0.5/delt)):\n",
    "        alpha=0.5\n",
    "        for k in range(math.ceil(0.5/delt)):\n",
    "    \n",
    "            a1=vsfunc(alpha,kappa,epsilon,0.001)\n",
    "            l=loss(a1)\n",
    "            if l<0.0000001:\n",
    "                print(l,alpha,kappa,epsilon)\n",
    "                a.append(alpha)\n",
    "                b.append(kappa)\n",
    "                c.append(epsilon)\n",
    "                lo.append(l)\n",
    "                \n",
    "            alpha=alpha+delt  \n",
    "        kappa=kappa+delt          \n",
    "    epsilon=epsilon+delt"
   ]
  },
  {
   "cell_type": "code",
   "execution_count": 164,
   "metadata": {},
   "outputs": [
    {
     "name": "stdout",
     "output_type": "stream",
     "text": [
      "0\n"
     ]
    },
    {
     "ename": "KeyboardInterrupt",
     "evalue": "",
     "output_type": "error",
     "traceback": [
      "\u001b[1;31m---------------------------------------------------------------------------\u001b[0m",
      "\u001b[1;31mKeyboardInterrupt\u001b[0m                         Traceback (most recent call last)",
      "\u001b[1;32m<ipython-input-164-873451f02e7f>\u001b[0m in \u001b[0;36m<module>\u001b[1;34m\u001b[0m\n\u001b[0;32m     19\u001b[0m \u001b[1;33m\u001b[0m\u001b[0m\n\u001b[0;32m     20\u001b[0m             \u001b[0ma1\u001b[0m\u001b[1;33m=\u001b[0m\u001b[0mvsfunc\u001b[0m\u001b[1;33m(\u001b[0m\u001b[0malpha\u001b[0m\u001b[1;33m,\u001b[0m\u001b[0mkappa\u001b[0m\u001b[1;33m,\u001b[0m\u001b[0mepsilon\u001b[0m\u001b[1;33m,\u001b[0m\u001b[1;36m0.001\u001b[0m\u001b[1;33m)\u001b[0m\u001b[1;33m\u001b[0m\u001b[1;33m\u001b[0m\u001b[0m\n\u001b[1;32m---> 21\u001b[1;33m             \u001b[0ml\u001b[0m\u001b[1;33m=\u001b[0m\u001b[0mloss\u001b[0m\u001b[1;33m(\u001b[0m\u001b[0ma1\u001b[0m\u001b[1;33m)\u001b[0m\u001b[1;33m\u001b[0m\u001b[1;33m\u001b[0m\u001b[0m\n\u001b[0m\u001b[0;32m     22\u001b[0m             \u001b[1;32mif\u001b[0m \u001b[0ml\u001b[0m\u001b[1;33m<\u001b[0m\u001b[1;36m0.0000001\u001b[0m\u001b[1;33m:\u001b[0m\u001b[1;33m\u001b[0m\u001b[1;33m\u001b[0m\u001b[0m\n\u001b[0;32m     23\u001b[0m                 \u001b[0mprint\u001b[0m\u001b[1;33m(\u001b[0m\u001b[0ml\u001b[0m\u001b[1;33m,\u001b[0m\u001b[0malpha\u001b[0m\u001b[1;33m,\u001b[0m\u001b[0mkappa\u001b[0m\u001b[1;33m,\u001b[0m\u001b[0mepsilon\u001b[0m\u001b[1;33m)\u001b[0m\u001b[1;33m\u001b[0m\u001b[1;33m\u001b[0m\u001b[0m\n",
      "\u001b[1;32m<ipython-input-149-af736f21166a>\u001b[0m in \u001b[0;36mloss\u001b[1;34m(a)\u001b[0m\n\u001b[0;32m     10\u001b[0m \u001b[1;33m\u001b[0m\u001b[0m\n\u001b[0;32m     11\u001b[0m     \u001b[0me1\u001b[0m\u001b[1;33m=\u001b[0m\u001b[0mmean_squared_error\u001b[0m\u001b[1;33m(\u001b[0m\u001b[0ma1\u001b[0m\u001b[1;33m,\u001b[0m\u001b[0mi1\u001b[0m\u001b[1;33m)\u001b[0m\u001b[1;33m\u001b[0m\u001b[1;33m\u001b[0m\u001b[0m\n\u001b[1;32m---> 12\u001b[1;33m     \u001b[0me2\u001b[0m\u001b[1;33m=\u001b[0m\u001b[0mmean_squared_error\u001b[0m\u001b[1;33m(\u001b[0m\u001b[0ma2\u001b[0m\u001b[1;33m,\u001b[0m\u001b[0mi2\u001b[0m\u001b[1;33m)\u001b[0m\u001b[1;33m\u001b[0m\u001b[1;33m\u001b[0m\u001b[0m\n\u001b[0m\u001b[0;32m     13\u001b[0m \u001b[1;33m\u001b[0m\u001b[0m\n\u001b[0;32m     14\u001b[0m     \u001b[1;32mreturn\u001b[0m \u001b[0me1\u001b[0m\u001b[1;33m+\u001b[0m\u001b[0me2\u001b[0m\u001b[1;33m\u001b[0m\u001b[1;33m\u001b[0m\u001b[0m\n",
      "\u001b[1;32mC:\\ProgramData\\Anaconda3\\lib\\site-packages\\sklearn\\utils\\validation.py\u001b[0m in \u001b[0;36minner_f\u001b[1;34m(*args, **kwargs)\u001b[0m\n\u001b[0;32m     71\u001b[0m                           FutureWarning)\n\u001b[0;32m     72\u001b[0m         \u001b[0mkwargs\u001b[0m\u001b[1;33m.\u001b[0m\u001b[0mupdate\u001b[0m\u001b[1;33m(\u001b[0m\u001b[1;33m{\u001b[0m\u001b[0mk\u001b[0m\u001b[1;33m:\u001b[0m \u001b[0marg\u001b[0m \u001b[1;32mfor\u001b[0m \u001b[0mk\u001b[0m\u001b[1;33m,\u001b[0m \u001b[0marg\u001b[0m \u001b[1;32min\u001b[0m \u001b[0mzip\u001b[0m\u001b[1;33m(\u001b[0m\u001b[0msig\u001b[0m\u001b[1;33m.\u001b[0m\u001b[0mparameters\u001b[0m\u001b[1;33m,\u001b[0m \u001b[0margs\u001b[0m\u001b[1;33m)\u001b[0m\u001b[1;33m}\u001b[0m\u001b[1;33m)\u001b[0m\u001b[1;33m\u001b[0m\u001b[1;33m\u001b[0m\u001b[0m\n\u001b[1;32m---> 73\u001b[1;33m         \u001b[1;32mreturn\u001b[0m \u001b[0mf\u001b[0m\u001b[1;33m(\u001b[0m\u001b[1;33m**\u001b[0m\u001b[0mkwargs\u001b[0m\u001b[1;33m)\u001b[0m\u001b[1;33m\u001b[0m\u001b[1;33m\u001b[0m\u001b[0m\n\u001b[0m\u001b[0;32m     74\u001b[0m     \u001b[1;32mreturn\u001b[0m \u001b[0minner_f\u001b[0m\u001b[1;33m\u001b[0m\u001b[1;33m\u001b[0m\u001b[0m\n\u001b[0;32m     75\u001b[0m \u001b[1;33m\u001b[0m\u001b[0m\n",
      "\u001b[1;32mC:\\ProgramData\\Anaconda3\\lib\\site-packages\\sklearn\\metrics\\_regression.py\u001b[0m in \u001b[0;36mmean_squared_error\u001b[1;34m(y_true, y_pred, sample_weight, multioutput, squared)\u001b[0m\n\u001b[0;32m    254\u001b[0m         y_true, y_pred, multioutput)\n\u001b[0;32m    255\u001b[0m     \u001b[0mcheck_consistent_length\u001b[0m\u001b[1;33m(\u001b[0m\u001b[0my_true\u001b[0m\u001b[1;33m,\u001b[0m \u001b[0my_pred\u001b[0m\u001b[1;33m,\u001b[0m \u001b[0msample_weight\u001b[0m\u001b[1;33m)\u001b[0m\u001b[1;33m\u001b[0m\u001b[1;33m\u001b[0m\u001b[0m\n\u001b[1;32m--> 256\u001b[1;33m     output_errors = np.average((y_true - y_pred) ** 2, axis=0,\n\u001b[0m\u001b[0;32m    257\u001b[0m                                weights=sample_weight)\n\u001b[0;32m    258\u001b[0m     \u001b[1;32mif\u001b[0m \u001b[0misinstance\u001b[0m\u001b[1;33m(\u001b[0m\u001b[0mmultioutput\u001b[0m\u001b[1;33m,\u001b[0m \u001b[0mstr\u001b[0m\u001b[1;33m)\u001b[0m\u001b[1;33m:\u001b[0m\u001b[1;33m\u001b[0m\u001b[1;33m\u001b[0m\u001b[0m\n",
      "\u001b[1;31mKeyboardInterrupt\u001b[0m: "
     ]
    }
   ],
   "source": [
    "import math\n",
    "\n",
    "delt=0.0001\n",
    "alpha=0.5\n",
    "kappa=0.5\n",
    "epsilon=0.8\n",
    "\n",
    "a=[]\n",
    "b=[]\n",
    "c=[]\n",
    "lo=[]\n",
    "\n",
    "for i in range(math.ceil(0.2/delt)):\n",
    "    print(i)\n",
    "    kappa=0.7\n",
    "    for j in range(math.ceil(0.3/delt)):\n",
    "        alpha=0.6\n",
    "        for k in range(math.ceil(0.4/delt)):\n",
    "    \n",
    "            a1=vsfunc(alpha,kappa,epsilon,0.001)\n",
    "            l=loss(a1)\n",
    "            if l<0.0000001:\n",
    "                print(l,alpha,kappa,epsilon)\n",
    "                a.append(alpha)\n",
    "                b.append(kappa)\n",
    "                c.append(epsilon)\n",
    "                lo.append(l)\n",
    "                \n",
    "            alpha=alpha+delt  \n",
    "        kappa=kappa+delt          \n",
    "    epsilon=epsilon+delt"
   ]
  },
  {
   "cell_type": "code",
   "execution_count": null,
   "metadata": {},
   "outputs": [],
   "source": [
    "b"
   ]
  },
  {
   "cell_type": "code",
   "execution_count": null,
   "metadata": {},
   "outputs": [],
   "source": [
    "c"
   ]
  },
  {
   "cell_type": "code",
   "execution_count": null,
   "metadata": {},
   "outputs": [],
   "source": [
    "lo"
   ]
  },
  {
   "cell_type": "code",
   "execution_count": 159,
   "metadata": {},
   "outputs": [
    {
     "ename": "TypeError",
     "evalue": "append() got an unexpected keyword argument 'how'",
     "output_type": "error",
     "traceback": [
      "\u001b[1;31m---------------------------------------------------------------------------\u001b[0m",
      "\u001b[1;31mTypeError\u001b[0m                                 Traceback (most recent call last)",
      "\u001b[1;32m<ipython-input-159-cab6684f44bc>\u001b[0m in \u001b[0;36m<module>\u001b[1;34m\u001b[0m\n\u001b[0;32m      4\u001b[0m \u001b[0mlo\u001b[0m\u001b[1;33m=\u001b[0m\u001b[0mpd\u001b[0m\u001b[1;33m.\u001b[0m\u001b[0mDataFrame\u001b[0m\u001b[1;33m(\u001b[0m\u001b[0mlo\u001b[0m\u001b[1;33m)\u001b[0m\u001b[1;33m\u001b[0m\u001b[1;33m\u001b[0m\u001b[0m\n\u001b[0;32m      5\u001b[0m \u001b[1;33m\u001b[0m\u001b[0m\n\u001b[1;32m----> 6\u001b[1;33m \u001b[0ma\u001b[0m\u001b[1;33m.\u001b[0m\u001b[0mappend\u001b[0m\u001b[1;33m(\u001b[0m\u001b[0mb\u001b[0m\u001b[1;33m,\u001b[0m\u001b[0mhow\u001b[0m\u001b[1;33m=\u001b[0m\u001b[1;34m'left'\u001b[0m\u001b[1;33m,\u001b[0m\u001b[0mignore_index\u001b[0m\u001b[1;33m=\u001b[0m\u001b[1;32mTrue\u001b[0m\u001b[1;33m)\u001b[0m\u001b[1;33m\u001b[0m\u001b[1;33m\u001b[0m\u001b[0m\n\u001b[0m\u001b[0;32m      7\u001b[0m \u001b[0ma\u001b[0m\u001b[1;33m.\u001b[0m\u001b[0mappend\u001b[0m\u001b[1;33m(\u001b[0m\u001b[0mc\u001b[0m\u001b[1;33m,\u001b[0m\u001b[0mignore_index\u001b[0m\u001b[1;33m=\u001b[0m\u001b[1;32mTrue\u001b[0m\u001b[1;33m)\u001b[0m\u001b[1;33m\u001b[0m\u001b[1;33m\u001b[0m\u001b[0m\n\u001b[0;32m      8\u001b[0m \u001b[0ma\u001b[0m\u001b[1;33m.\u001b[0m\u001b[0mappend\u001b[0m\u001b[1;33m(\u001b[0m\u001b[0mlo\u001b[0m\u001b[1;33m,\u001b[0m\u001b[0mignore_index\u001b[0m\u001b[1;33m=\u001b[0m\u001b[1;32mTrue\u001b[0m\u001b[1;33m)\u001b[0m\u001b[1;33m\u001b[0m\u001b[1;33m\u001b[0m\u001b[0m\n",
      "\u001b[1;31mTypeError\u001b[0m: append() got an unexpected keyword argument 'how'"
     ]
    }
   ],
   "source": [
    "a=pd.DataFrame(a)\n",
    "b=pd.DataFrame(b)\n",
    "c=pd.DataFrame(c)\n",
    "lo=pd.DataFrame(lo)\n",
    "\n",
    "a.append(b,how='left',ignore_index=True)\n",
    "a.append(c,ignore_index=True)\n",
    "a.append(lo,ignore_index=True)\n",
    "\n",
    "a.to_csv('a.csv')"
   ]
  },
  {
   "cell_type": "code",
   "execution_count": 156,
   "metadata": {},
   "outputs": [
    {
     "ename": "PermissionError",
     "evalue": "[Errno 13] Permission denied: 'a.csv'",
     "output_type": "error",
     "traceback": [
      "\u001b[1;31m---------------------------------------------------------------------------\u001b[0m",
      "\u001b[1;31mPermissionError\u001b[0m                           Traceback (most recent call last)",
      "\u001b[1;32m<ipython-input-156-6336bcf08183>\u001b[0m in \u001b[0;36m<module>\u001b[1;34m\u001b[0m\n\u001b[1;32m----> 1\u001b[1;33m \u001b[0ma\u001b[0m\u001b[1;33m.\u001b[0m\u001b[0mto_csv\u001b[0m\u001b[1;33m(\u001b[0m\u001b[1;34m'a.csv'\u001b[0m\u001b[1;33m)\u001b[0m\u001b[1;33m\u001b[0m\u001b[1;33m\u001b[0m\u001b[0m\n\u001b[0m\u001b[0;32m      2\u001b[0m \u001b[0mb\u001b[0m\u001b[1;33m.\u001b[0m\u001b[0mto_csv\u001b[0m\u001b[1;33m(\u001b[0m\u001b[1;34m'b.csv'\u001b[0m\u001b[1;33m)\u001b[0m\u001b[1;33m\u001b[0m\u001b[1;33m\u001b[0m\u001b[0m\n\u001b[0;32m      3\u001b[0m \u001b[0mc\u001b[0m\u001b[1;33m.\u001b[0m\u001b[0mto_csv\u001b[0m\u001b[1;33m(\u001b[0m\u001b[1;34m'c.csv'\u001b[0m\u001b[1;33m)\u001b[0m\u001b[1;33m\u001b[0m\u001b[1;33m\u001b[0m\u001b[0m\n\u001b[0;32m      4\u001b[0m \u001b[0mlo\u001b[0m\u001b[1;33m.\u001b[0m\u001b[0mto_csv\u001b[0m\u001b[1;33m(\u001b[0m\u001b[1;34m'lo.csv'\u001b[0m\u001b[1;33m)\u001b[0m\u001b[1;33m\u001b[0m\u001b[1;33m\u001b[0m\u001b[0m\n",
      "\u001b[1;32mC:\\ProgramData\\Anaconda3\\lib\\site-packages\\pandas\\core\\generic.py\u001b[0m in \u001b[0;36mto_csv\u001b[1;34m(self, path_or_buf, sep, na_rep, float_format, columns, header, index, index_label, mode, encoding, compression, quoting, quotechar, line_terminator, chunksize, date_format, doublequote, escapechar, decimal)\u001b[0m\n\u001b[0;32m   3202\u001b[0m             \u001b[0mdecimal\u001b[0m\u001b[1;33m=\u001b[0m\u001b[0mdecimal\u001b[0m\u001b[1;33m,\u001b[0m\u001b[1;33m\u001b[0m\u001b[1;33m\u001b[0m\u001b[0m\n\u001b[0;32m   3203\u001b[0m         )\n\u001b[1;32m-> 3204\u001b[1;33m         \u001b[0mformatter\u001b[0m\u001b[1;33m.\u001b[0m\u001b[0msave\u001b[0m\u001b[1;33m(\u001b[0m\u001b[1;33m)\u001b[0m\u001b[1;33m\u001b[0m\u001b[1;33m\u001b[0m\u001b[0m\n\u001b[0m\u001b[0;32m   3205\u001b[0m \u001b[1;33m\u001b[0m\u001b[0m\n\u001b[0;32m   3206\u001b[0m         \u001b[1;32mif\u001b[0m \u001b[0mpath_or_buf\u001b[0m \u001b[1;32mis\u001b[0m \u001b[1;32mNone\u001b[0m\u001b[1;33m:\u001b[0m\u001b[1;33m\u001b[0m\u001b[1;33m\u001b[0m\u001b[0m\n",
      "\u001b[1;32mC:\\ProgramData\\Anaconda3\\lib\\site-packages\\pandas\\io\\formats\\csvs.py\u001b[0m in \u001b[0;36msave\u001b[1;34m(self)\u001b[0m\n\u001b[0;32m    182\u001b[0m             \u001b[0mclose\u001b[0m \u001b[1;33m=\u001b[0m \u001b[1;32mFalse\u001b[0m\u001b[1;33m\u001b[0m\u001b[1;33m\u001b[0m\u001b[0m\n\u001b[0;32m    183\u001b[0m         \u001b[1;32melse\u001b[0m\u001b[1;33m:\u001b[0m\u001b[1;33m\u001b[0m\u001b[1;33m\u001b[0m\u001b[0m\n\u001b[1;32m--> 184\u001b[1;33m             f, handles = get_handle(\n\u001b[0m\u001b[0;32m    185\u001b[0m                 \u001b[0mself\u001b[0m\u001b[1;33m.\u001b[0m\u001b[0mpath_or_buf\u001b[0m\u001b[1;33m,\u001b[0m\u001b[1;33m\u001b[0m\u001b[1;33m\u001b[0m\u001b[0m\n\u001b[0;32m    186\u001b[0m                 \u001b[0mself\u001b[0m\u001b[1;33m.\u001b[0m\u001b[0mmode\u001b[0m\u001b[1;33m,\u001b[0m\u001b[1;33m\u001b[0m\u001b[1;33m\u001b[0m\u001b[0m\n",
      "\u001b[1;32mC:\\ProgramData\\Anaconda3\\lib\\site-packages\\pandas\\io\\common.py\u001b[0m in \u001b[0;36mget_handle\u001b[1;34m(path_or_buf, mode, encoding, compression, memory_map, is_text)\u001b[0m\n\u001b[0;32m    426\u001b[0m         \u001b[1;32mif\u001b[0m \u001b[0mencoding\u001b[0m\u001b[1;33m:\u001b[0m\u001b[1;33m\u001b[0m\u001b[1;33m\u001b[0m\u001b[0m\n\u001b[0;32m    427\u001b[0m             \u001b[1;31m# Encoding\u001b[0m\u001b[1;33m\u001b[0m\u001b[1;33m\u001b[0m\u001b[1;33m\u001b[0m\u001b[0m\n\u001b[1;32m--> 428\u001b[1;33m             \u001b[0mf\u001b[0m \u001b[1;33m=\u001b[0m \u001b[0mopen\u001b[0m\u001b[1;33m(\u001b[0m\u001b[0mpath_or_buf\u001b[0m\u001b[1;33m,\u001b[0m \u001b[0mmode\u001b[0m\u001b[1;33m,\u001b[0m \u001b[0mencoding\u001b[0m\u001b[1;33m=\u001b[0m\u001b[0mencoding\u001b[0m\u001b[1;33m,\u001b[0m \u001b[0mnewline\u001b[0m\u001b[1;33m=\u001b[0m\u001b[1;34m\"\"\u001b[0m\u001b[1;33m)\u001b[0m\u001b[1;33m\u001b[0m\u001b[1;33m\u001b[0m\u001b[0m\n\u001b[0m\u001b[0;32m    429\u001b[0m         \u001b[1;32melif\u001b[0m \u001b[0mis_text\u001b[0m\u001b[1;33m:\u001b[0m\u001b[1;33m\u001b[0m\u001b[1;33m\u001b[0m\u001b[0m\n\u001b[0;32m    430\u001b[0m             \u001b[1;31m# No explicit encoding\u001b[0m\u001b[1;33m\u001b[0m\u001b[1;33m\u001b[0m\u001b[1;33m\u001b[0m\u001b[0m\n",
      "\u001b[1;31mPermissionError\u001b[0m: [Errno 13] Permission denied: 'a.csv'"
     ]
    }
   ],
   "source": [
    "a.to_csv('a.csv')\n",
    "b.to_csv('b.csv')\n",
    "c.to_csv('c.csv')\n",
    "lo.to_csv('lo.csv')"
   ]
  },
  {
   "cell_type": "code",
   "execution_count": null,
   "metadata": {},
   "outputs": [],
   "source": []
  }
 ],
 "metadata": {
  "kernelspec": {
   "display_name": "Python 3",
   "language": "python",
   "name": "python3"
  },
  "language_info": {
   "codemirror_mode": {
    "name": "ipython",
    "version": 3
   },
   "file_extension": ".py",
   "mimetype": "text/x-python",
   "name": "python",
   "nbconvert_exporter": "python",
   "pygments_lexer": "ipython3",
   "version": "3.8.3"
  }
 },
 "nbformat": 4,
 "nbformat_minor": 4
}
