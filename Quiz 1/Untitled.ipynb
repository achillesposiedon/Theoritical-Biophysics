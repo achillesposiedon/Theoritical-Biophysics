{
 "cells": [
  {
   "cell_type": "code",
   "execution_count": 1,
   "metadata": {},
   "outputs": [],
   "source": [
    "import pandas as pd\n",
    "import numpy as np\n",
    "\n",
    "data=pd.read_csv('C:/Users/Ant Pc/Theoritical Biophysics/Quiz 1/ME17B037_QI.csv')\n",
    "data.head()\n",
    "\n",
    "import math\n",
    "def vsfunc(alpha,kappa,epsilon,delt):\n",
    "    \n",
    "    tots=math.ceil(1/delt)\n",
    "    vs=[]\n",
    "    vs1=[]\n",
    "    vsd=0.00001\n",
    "    sd=w=1\n",
    "    \n",
    "    while w<=tots:\n",
    "        vs.append(sd)\n",
    "        vs1.append(vsd)\n",
    "        w = w + 1\n",
    "        vsd = vsd - delt * (-1.0 + alpha * vsd / ((epsilon - vsd) * sd - kappa * vsd))\n",
    "        sd = sd - delt\n",
    "        \n",
    "        if sd <= 0:\n",
    "            sd = 0 \n",
    "            vsd = 0\n",
    "            \n",
    "        if vsd < 0:\n",
    "            vsd = 0\n",
    "        \n",
    "        if sd >= 1:\n",
    "            sd = 1\n",
    "            vsd = 0\n",
    "            \n",
    "        if vsd > 1: \n",
    "            vsd = 1\n",
    "    \n",
    "    r=np.array(vs)\n",
    "    j=np.array(vs1)\n",
    "    a=np.zeros([tots,2])\n",
    "    a[:,0]=r\n",
    "    a[:,1]=j\n",
    "    return a"
   ]
  },
  {
   "cell_type": "code",
   "execution_count": 23,
   "metadata": {},
   "outputs": [],
   "source": [
    "a=vsfunc(0.99,0.99,10.99,0.001)"
   ]
  },
  {
   "cell_type": "code",
   "execution_count": 24,
   "metadata": {},
   "outputs": [
    {
     "data": {
      "image/png": "[encoded data removed]",
      "text/plain": [
       "<Figure size 432x288 with 1 Axes>"
      ]
     },
     "metadata": {
      "needs_background": "light"
     },
     "output_type": "display_data"
    }
   ],
   "source": [
    "import matplotlib.pyplot as plt\n",
    "\n",
    "plt.plot([x for x in range(1000)], data.iloc[:,0],'-b', label='origional')\n",
    "plt.plot([x for x in range(1000)], a[:,0],'-r', label='predicted')\n",
    "plt.legend(loc='best')\n",
    "plt.show()"
   ]
  },
  {
   "cell_type": "code",
   "execution_count": 13,
   "metadata": {},
   "outputs": [
    {
     "data": {
      "text/plain": [
       "1.9507972388430727e-08"
      ]
     },
     "execution_count": 13,
     "metadata": {},
     "output_type": "execute_result"
    }
   ],
   "source": [
    "from sklearn.metrics import mean_squared_error\n",
    "mean_squared_error(a[:,1],data.iloc[:,1])"
   ]
  },
  {
   "cell_type": "code",
   "execution_count": 15,
   "metadata": {},
   "outputs": [
    {
     "data": {
      "text/plain": [
       "2.642297349391907e-31"
      ]
     },
     "execution_count": 15,
     "metadata": {},
     "output_type": "execute_result"
    }
   ],
   "source": [
    "mean_squared_error(a[:,0],data.iloc[:,0])"
   ]
  },
  {
   "cell_type": "code",
   "execution_count": null,
   "metadata": {},
   "outputs": [],
   "source": []
  }
 ],
 "metadata": {
  "kernelspec": {
   "display_name": "Python 3",
   "language": "python",
   "name": "python3"
  },
  "language_info": {
   "codemirror_mode": {
    "name": "ipython",
    "version": 3
   },
   "file_extension": ".py",
   "mimetype": "text/x-python",
   "name": "python",
   "nbconvert_exporter": "python",
   "pygments_lexer": "ipython3",
   "version": "3.8.3"
  }
 },
 "nbformat": 4,
 "nbformat_minor": 4
}
